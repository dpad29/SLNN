{
 "cells": [
  {
   "cell_type": "code",
   "execution_count": 1,
   "metadata": {},
   "outputs": [],
   "source": [
    "import numpy as np \n",
    "import matplotlib.pyplot as plt \n",
    "\n",
    "input_data = np.loadtxt(\"hw3data.txt\", usecols=(0,1))\n",
    "output_data=np.loadtxt(\"hw3data.txt\", usecols=2, dtype=str)\n",
    "\n",
    "for i in range(len(output_data)):\n",
    "    if output_data[i]=='Class-1':\n",
    "        output_data[i]=0\n",
    "    if output_data[i]=='Class-2':\n",
    "        output_data[i]=1\n",
    "output_data=output_data.astype(int)\n",
    "output_data=output_data.reshape(output_data.shape[0],1)"
   ]
  },
  {
   "cell_type": "code",
   "execution_count": 2,
   "metadata": {},
   "outputs": [],
   "source": [
    "def initialize_parameters_deep(layer_dims): \n",
    "    parameters = {}\n",
    "    L = len(layer_dims)               \n",
    "    for l in range(1, L): \n",
    "        parameters['W' + str(l)] = np.random.randn(layer_dims[l],layer_dims[l - 1])*0.01\n",
    "        parameters['b' + str(l)] = np.zeros((layer_dims[l], 1))  \n",
    "    return parameters \n",
    "\n",
    "def linear_forward(A, W, b): \n",
    "    Z = np.dot(W, A) + b \n",
    "    cache = (A, W, b)   #helps in backprop\n",
    "    return Z, cache \n",
    "\n",
    "def sigmoid(Z): \n",
    "    A = 1/(1 + np.exp(-Z)) \n",
    "    return A, {'Z' : Z} #again we cache Z the activation cache\n",
    "\n",
    "def linear_activation_forward(A_prev, W, b):       \n",
    "    Z, linear_cache = linear_forward(A_prev, W, b) \n",
    "    A, activation_cache = sigmoid(Z) \n",
    "    cache = (linear_cache, activation_cache) \n",
    "    return A, cache \n",
    "\n",
    "def L_model_forward(X, parameters): \n",
    "    caches = [] \n",
    "    A = X \n",
    "    L = len(parameters) // 2 \n",
    "    for l in range(1, L): \n",
    "        A_prev = A \n",
    "        A, cache = linear_activation_forward(A_prev, parameters['W' + str(l)], parameters['b' + str(l)]) \n",
    "        caches.append(cache) \n",
    "    AL, cache = linear_activation_forward(A, parameters['W' + str(L)], parameters['b' + str(L)]) \n",
    "    caches.append(cache) \n",
    "    return AL, caches #caches here is a list of Zl,Al,X's\n",
    "\n",
    "def compute_cost(AL, Y):   #using cross entropy loss\n",
    "    m = Y.shape[1] \n",
    "    cost = (-1 / m)*(np.dot(np.log(AL), Y.T)+np.dot(np.log((1-AL)), (1 - Y).T)) \n",
    "    cost = np.squeeze(cost)\n",
    "    return cost \n",
    "\n"
   ]
  },
  {
   "cell_type": "code",
   "execution_count": 3,
   "metadata": {},
   "outputs": [],
   "source": [
    "def linear_backward(dZ, cache): #calculating linear part of backprop\n",
    "    A_prev, W, b = cache \n",
    "    m = A_prev.shape[1] \n",
    "    dW = np.dot(dZ, A_prev.T)/m\n",
    "    db = np.sum(dZ, axis = 1, keepdims = True)/m \n",
    "    dA_prev = np.dot(W.T, dZ) \n",
    "    return dA_prev, dW, db \n",
    "\n",
    "def sigmoid_backward(dA, activation_cache):  #gives backward of sigmoid\n",
    "    Z = activation_cache['Z'] \n",
    "    A = sigmoid(Z)[0]\n",
    "    return dA * (A*(1 - A)) \n",
    "\n",
    "def linear_activation_backward(dA, cache,):   #actvation bacward\n",
    "    linear_cache, activation_cache = cache \n",
    "    dZ = sigmoid_backward(dA, activation_cache) \n",
    "    dA_prev, dW, db = linear_backward(dZ, linear_cache) \n",
    "    return dA_prev, dW, db \n",
    "\n",
    "\n",
    "def L_model_backward(AL, Y, caches): #l layer backward\n",
    "    grads = {} \n",
    "    L = len(caches) # the number of layers \n",
    "    m = AL.shape[1] \n",
    "    Y = Y.reshape(AL.shape) # y is reshaped to help intialize da \n",
    "    dAL = - (np.divide(Y, AL) - np.divide(1 - Y, 1 - AL)) \n",
    "    #backprop for last layer is done.\n",
    "    current_cache = caches[L - 1] \n",
    "    grads[\"dA\" + str(L-1)], grads[\"dW\" + str(L)], grads[\"db\" + str(L)] = linear_activation_backward(dAL, current_cache)\n",
    "    #backprop for all other layers\n",
    "    for l in reversed(range(L-1)): \n",
    "        current_cache = caches[l] \n",
    "        dA_prev_temp, dW_temp, db_temp = linear_activation_backward( grads['dA' + str(l + 1)], current_cache) \n",
    "        grads[\"dA\" + str(l)] = dA_prev_temp \n",
    "        grads[\"dW\" + str(l + 1)] = dW_temp \n",
    "        grads[\"db\" + str(l + 1)] = db_temp \n",
    "    return grads \n",
    "\n",
    "def update_parameters(parameters, grads, learning_rate):  #funtion to update parameters\n",
    "    L = len(parameters) // 2 \n",
    " \n",
    "    for l in range(L): \n",
    "        parameters[\"W\" + str(l + 1)] = parameters[\"W\" + str(l + 1)] - learning_rate * grads['dW' + str(l + 1)] \n",
    "        parameters[\"b\" + str(l + 1)] = parameters['b' + str(l + 1)] - learning_rate * grads['db' + str(l + 1)] \n",
    "\n",
    "    return parameters\n",
    "\n",
    "def L_layer_model(X, Y, layers_dims, learning_rate = 0.005, num_iterations = 300):   #final fuction\n",
    "    np.random.seed(1) \n",
    "    costs = []\n",
    "\n",
    "    parameters = initialize_parameters_deep(layers_dims) \n",
    "    \n",
    " \n",
    "    for i in range(0, num_iterations): \n",
    "        AL, caches = L_model_forward(X, parameters) \n",
    "        cost = compute_cost(AL, Y) \n",
    "        costs.append(cost)\n",
    "        grads = L_model_backward(AL, Y, caches) \n",
    "        parameters = update_parameters(parameters, grads, learning_rate) \n",
    " \n",
    " \n",
    "\n",
    "    # plot the cost \n",
    "    plt.plot(np.squeeze(costs)) \n",
    "    plt.ylabel('cost') \n",
    "    plt.xlabel('iterations') \n",
    "    plt.title(\"Learning rate =\" + str(learning_rate)) \n",
    "    plt.show() \n",
    "    \n",
    "    return parameters ,costs\n",
    "\n"
   ]
  },
  {
   "cell_type": "code",
   "execution_count": 4,
   "metadata": {},
   "outputs": [
    {
     "data": {
      "image/png": "[encoded data removed]",
      "text/plain": [
       "<Figure size 432x288 with 1 Axes>"
      ]
     },
     "metadata": {
      "needs_background": "light"
     },
     "output_type": "display_data"
    },
    {
     "name": "stdout",
     "output_type": "stream",
     "text": [
      "Cost in single layer perceptron: 0.6866617880496284\n"
     ]
    }
   ],
   "source": [
    "#1(a) Single Layer Perceptron\n",
    "print(\"Cost in single layer perceptron: \" +str( L_layer_model(input_data.T,output_data.T,[2,7,1])[1][-1]))\n",
    "\n",
    "\n",
    "\n"
   ]
  },
  {
   "cell_type": "code",
   "execution_count": 6,
   "metadata": {},
   "outputs": [],
   "source": [
    "def predict(parameters, X):\n",
    "    A2, cache = forward_propagation(X, parameters)\n",
    "    predictions = np.round(A2)\n",
    "    return predictions\n",
    "\n",
    "def forward_propagation(X, parameters):\n",
    "    W1 = parameters['W1']\n",
    "    b1 = parameters['b1']\n",
    "    W2 = parameters['W2']\n",
    "    b2 = parameters['b2']\n",
    "     \n",
    "    cache = {\"Z1\": Z1,\n",
    "             \"A1\": A1,\n",
    "             \"Z2\": Z2,\n",
    "             \"A2\": A2}\n",
    "    \n",
    "    return A2, cache\n",
    "    \n"
   ]
  },
  {
   "cell_type": "code",
   "execution_count": 7,
   "metadata": {},
   "outputs": [
    {
     "data": {
      "image/png": "[encoded data removed]",
      "text/plain": [
       "<Figure size 432x288 with 1 Axes>"
      ]
     },
     "metadata": {
      "needs_background": "light"
     },
     "output_type": "display_data"
    },
    {
     "name": "stdout",
     "output_type": "stream",
     "text": [
      "Cost in multiple layer perceptron: 0.6859298144723724\n"
     ]
    }
   ],
   "source": [
    " #1(b) Mulitple Layer Perceptron:\n",
    "print(\"Cost in multiple layer perceptron: \" +str( L_layer_model(input_data.T,output_data.T,[2,50,20,10,3,1], num_iterations=3000)[1][-1]))\n"
   ]
  },
  {
   "cell_type": "code",
   "execution_count": null,
   "metadata": {},
   "outputs": [],
   "source": []
  },
  {
   "cell_type": "markdown",
   "metadata": {},
   "source": [
    "1(c).\n",
    "Multiple layer neural networks usually give lesser error.\n",
    "Since single layer neural networks have one one hidden layer, they only approxiate data well on linear scales. Therefore the data is underfitted.\n",
    "In the case of multiple layer networks, the network is modeled on multiple hidden layers. Therefore, data is approximated on non-linear scales. Therefore the data is overfitted, and the error is reduced.\n"
   ]
  },
  {
   "cell_type": "markdown",
   "metadata": {},
   "source": [
    "2(a). Same weights.\n",
    "In this case all the neurons will calculate the exact same output; as wieghts are the same. \n",
    "Therefore this will act the same as a single layer neural network.\n",
    "\n",
    "2(b). Large weights.\n",
    "Large weights will give us a better chance of landing on a more gradual slops of the activation function. Therefore our weight updates will be slower, than  if we update on small weights.\n"
   ]
  },
  {
   "cell_type": "code",
   "execution_count": null,
   "metadata": {},
   "outputs": [],
   "source": []
  },
  {
   "cell_type": "code",
   "execution_count": null,
   "metadata": {},
   "outputs": [],
   "source": []
  }
 ],
 "metadata": {
  "kernelspec": {
   "display_name": "Python 3",
   "language": "python",
   "name": "python3"
  },
  "language_info": {
   "codemirror_mode": {
    "name": "ipython",
    "version": 3
   },
   "file_extension": ".py",
   "mimetype": "text/x-python",
   "name": "python",
   "nbconvert_exporter": "python",
   "pygments_lexer": "ipython3",
   "version": "3.7.1"
  }
 },
 "nbformat": 4,
 "nbformat_minor": 2
}
